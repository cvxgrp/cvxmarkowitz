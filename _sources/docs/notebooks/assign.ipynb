{
 "cells": [
  {
   "cell_type": "markdown",
   "id": "2d65568f-37ab-48f9-a37a-0e00bcba96c2",
   "metadata": {},
   "source": [
    "# Reset a large matrix"
   ]
  },
  {
   "cell_type": "code",
   "execution_count": 2,
   "id": "038f7812-42ca-4c06-8231-b77933c6ed21",
   "metadata": {},
   "outputs": [],
   "source": [
    "import numpy as np"
   ]
  },
  {
   "cell_type": "code",
   "execution_count": 3,
   "id": "f3c94eb3-0eea-495e-ad94-9a19eb49936f",
   "metadata": {},
   "outputs": [],
   "source": [
    "# let's start with a large random matrix\n",
    "a = np.random.randn(5000,5000)\n",
    "b = np.random.randn(5000,5000)"
   ]
  },
  {
   "cell_type": "code",
   "execution_count": 4,
   "id": "281d2e4b-c821-4345-ba2d-7f5b87b3e636",
   "metadata": {},
   "outputs": [
    {
     "name": "stdout",
     "output_type": "stream",
     "text": [
      "126 ms ± 9.95 ms per loop (mean ± std. dev. of 7 runs, 10 loops each)\n"
     ]
    }
   ],
   "source": [
    "%%timeit\n",
    "# set all entries to zero by multiplying the matrix with 0\n",
    "b = 0*a"
   ]
  },
  {
   "cell_type": "code",
   "execution_count": 5,
   "id": "bff4f21a-def4-4b7e-9551-0761822dfd5b",
   "metadata": {},
   "outputs": [
    {
     "name": "stdout",
     "output_type": "stream",
     "text": [
      "131 ms ± 4.38 ms per loop (mean ± std. dev. of 7 runs, 10 loops each)\n"
     ]
    }
   ],
   "source": [
    "%%timeit\n",
    "# set all entries to zero by creating a zero matrix of the same dimension\n",
    "b = np.zeros_like(a)"
   ]
  },
  {
   "cell_type": "code",
   "execution_count": 6,
   "id": "79601706-2551-4577-9e23-2119919a44f1",
   "metadata": {},
   "outputs": [
    {
     "name": "stdout",
     "output_type": "stream",
     "text": [
      "4.75 µs ± 84.6 ns per loop (mean ± std. dev. of 7 runs, 100,000 loops each)\n"
     ]
    }
   ],
   "source": [
    "%%timeit\n",
    "# set all entries to zero by creating a zero matrix of the same dimension\n",
    "b = np.zeros((5000,5000))"
   ]
  },
  {
   "cell_type": "code",
   "execution_count": null,
   "id": "019dde4a-d070-42e2-a1aa-59fc73edd70d",
   "metadata": {},
   "outputs": [],
   "source": []
  }
 ],
 "metadata": {
  "kernelspec": {
   "display_name": "markowitz",
   "language": "python",
   "name": "markowitz"
  },
  "language_info": {
   "codemirror_mode": {
    "name": "ipython",
    "version": 3
   },
   "file_extension": ".py",
   "mimetype": "text/x-python",
   "name": "python",
   "nbconvert_exporter": "python",
   "pygments_lexer": "ipython3",
   "version": "3.10.6"
  }
 },
 "nbformat": 4,
 "nbformat_minor": 5
}
